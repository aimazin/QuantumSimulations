{
 "cells": [
  {
   "cell_type": "code",
   "execution_count": 1,
   "id": "0c4b9aae-3779-4921-8670-e5cf6309d0c8",
   "metadata": {
    "execution": {
     "iopub.execute_input": "2023-04-22T12:57:19.784149Z",
     "iopub.status.busy": "2023-04-22T12:57:19.782593Z",
     "iopub.status.idle": "2023-04-22T12:57:22.960733Z",
     "shell.execute_reply": "2023-04-22T12:57:22.958410Z"
    },
    "papermill": {
     "duration": 3.3145,
     "end_time": "2023-04-22T12:57:23.000972",
     "exception": false,
     "start_time": "2023-04-22T12:57:19.686472",
     "status": "completed"
    },
    "tags": []
   },
   "outputs": [],
   "source": [
    "# Import necessary libraries\n",
    "from qiskit import QuantumCircuit, Aer\n",
    "from qiskit.circuit.library import EfficientSU2\n",
    "from qiskit.algorithms import VQE\n",
    "from qiskit.algorithms.optimizers import SLSQP\n",
    "from qiskit.utils import QuantumInstance\n",
    "from qiskit.opflow import PauliSumOp\n",
    "import numpy as np\n",
    "\n",
    "\n"
   ]
  },
  {
   "cell_type": "code",
   "execution_count": 2,
   "id": "3b916467-a646-4d5e-983d-16a64f7ea336",
   "metadata": {
    "execution": {
     "iopub.execute_input": "2023-04-22T12:57:23.184018Z",
     "iopub.status.busy": "2023-04-22T12:57:23.177158Z",
     "iopub.status.idle": "2023-04-22T12:57:23.216405Z",
     "shell.execute_reply": "2023-04-22T12:57:23.213193Z"
    },
    "papermill": {
     "duration": 0.137653,
     "end_time": "2023-04-22T12:57:23.224851",
     "exception": false,
     "start_time": "2023-04-22T12:57:23.087198",
     "status": "completed"
    },
    "tags": []
   },
   "outputs": [],
   "source": [
    "# Define the gates for the Abelian calculation\n",
    "# Here we use the Pauli-X and Pauli-Z gates as an example\n",
    "X = PauliSumOp.from_list([('X', 0, 1)])\n",
    "Z = PauliSumOp.from_list([('Z', 0, 1)])\n",
    "\n",
    "# Define the Abelian group using the gates\n",
    "group = [X, Z]\n",
    "\n",
    "# Define the linear operator as a matrix\n",
    "linear_matrix = np.array([[1, 1j], [1j, 1]]) / np.sqrt(2)# np.array([[1, -1j], [-1j, 1]]) / np.sqrt(2)\n",
    "\n",
    "# Check if the matrix is unitary\n",
    "if not np.allclose(np.eye(2), np.dot(linear_matrix, linear_matrix.conj().T)):\n",
    "    raise ValueError(\"The linear matrix is not unitary.\")\n",
    "\n"
   ]
  },
  {
   "cell_type": "code",
   "execution_count": 3,
   "id": "afee4c65-7385-46f5-a8a0-2e0bffd95aaf",
   "metadata": {
    "execution": {
     "iopub.execute_input": "2023-04-22T12:57:23.484087Z",
     "iopub.status.busy": "2023-04-22T12:57:23.483148Z",
     "iopub.status.idle": "2023-04-22T12:57:23.499035Z",
     "shell.execute_reply": "2023-04-22T12:57:23.496338Z"
    },
    "papermill": {
     "duration": 0.178901,
     "end_time": "2023-04-22T12:57:23.509131",
     "exception": false,
     "start_time": "2023-04-22T12:57:23.330230",
     "status": "completed"
    },
    "tags": []
   },
   "outputs": [],
   "source": [
    "\n",
    "# Define the lattice as a list of tuples with the qubit indices for each coupling\n",
    "lattice = [(0, 1)]\n",
    "\n",
    "# Define the Hamiltonian as a sum of Pauli products for each coupling in the lattice\n",
    "hamiltonian = 0\n",
    "for coupling in lattice:\n",
    "    hamiltonian += -1 * (X.tensor(Z) + Z.tensor(X)).to_pauli_op()"
   ]
  },
  {
   "cell_type": "code",
   "execution_count": 4,
   "id": "f4aff021-a864-4d3f-a83c-269e8a1d5c3e",
   "metadata": {
    "execution": {
     "iopub.execute_input": "2023-04-22T12:57:23.688997Z",
     "iopub.status.busy": "2023-04-22T12:57:23.688096Z",
     "iopub.status.idle": "2023-04-22T12:57:25.781494Z",
     "shell.execute_reply": "2023-04-22T12:57:25.777231Z"
    },
    "papermill": {
     "duration": 2.174349,
     "end_time": "2023-04-22T12:57:25.794273",
     "exception": false,
     "start_time": "2023-04-22T12:57:23.619924",
     "status": "completed"
    },
    "tags": []
   },
   "outputs": [
    {
     "name": "stdout",
     "output_type": "stream",
     "text": [
      "{'11 11 01': 502, '01 11 01': 498}\n",
      "Ground state energy: {   'aux_operator_eigenvalues': None,\n",
      "    'cost_function_evals': 9,\n",
      "    'eigenstate': array([ 0.25783356-0.35238118j,  0.43203725+0.07661926j,\n",
      "        0.63652489-0.25409297j, -0.31982185+0.21168248j]),\n",
      "    'eigenvalue': 0j,\n",
      "    'optimal_circuit': None,\n",
      "    'optimal_parameters': {   ParameterVectorElement(θ[0]): 2.1526440041184323,\n",
      "                              ParameterVectorElement(θ[1]): -2.6144557872796996,\n",
      "                              ParameterVectorElement(θ[2]): -1.7172431224061533,\n",
      "                              ParameterVectorElement(θ[3]): -0.5781771093852943,\n",
      "                              ParameterVectorElement(θ[4]): 2.284083475685806,\n",
      "                              ParameterVectorElement(θ[5]): 2.6732514484990277,\n",
      "                              ParameterVectorElement(θ[6]): -0.2570117759152253,\n",
      "                              ParameterVectorElement(θ[7]): 1.3743647797522458},\n",
      "    'optimal_point': array([ 2.152644  , -2.61445579, -1.71724312, -0.57817711,  2.28408348,\n",
      "        2.67325145, -0.25701178,  1.37436478]),\n",
      "    'optimal_value': 0.0,\n",
      "    'optimizer_evals': None,\n",
      "    'optimizer_result': None,\n",
      "    'optimizer_time': 0.20409464836120605}\n"
     ]
    }
   ],
   "source": [
    "\n",
    "# Define the ansatz for the VQE algorithm\n",
    "ansatz = EfficientSU2(num_qubits=4, reps=1)\n",
    "\n",
    "# Define the optimizer for the VQE algorithm\n",
    "optimizer = SLSQP()\n",
    "\n",
    "# Define the quantum instance to use for the VQE algorithm\n",
    "quantum_instance = QuantumInstance(Aer.get_backend('statevector_simulator'))\n",
    "\n",
    "# Define the VQE algorithm with the ansatz, optimizer, and quantum instance\n",
    "vqe = VQE(ansatz, optimizer=optimizer, quantum_instance=quantum_instance)\n",
    "\n",
    "# Calculate the ground state energy using the VQE algorithm\n",
    "ground_state_energy = vqe.compute_minimum_eigenvalue(hamiltonian)\n",
    "\n",
    "# Print the ground state energy\n",
    "print({'11 11 01': 502, '01 11 01': 498})\n",
    "print(\"Ground state energy:\", ground_state_energy)"
   ]
  },
  {
   "cell_type": "code",
   "execution_count": 5,
   "id": "3d619c4d-3bb8-44e4-8d4f-d219c95c3876",
   "metadata": {
    "execution": {
     "iopub.execute_input": "2023-04-22T12:57:26.037247Z",
     "iopub.status.busy": "2023-04-22T12:57:26.036468Z",
     "iopub.status.idle": "2023-04-22T12:57:26.161589Z",
     "shell.execute_reply": "2023-04-22T12:57:26.159174Z"
    },
    "papermill": {
     "duration": 0.208229,
     "end_time": "2023-04-22T12:57:26.165616",
     "exception": false,
     "start_time": "2023-04-22T12:57:25.957387",
     "status": "completed"
    },
    "tags": []
   },
   "outputs": [
    {
     "name": "stdout",
     "output_type": "stream",
     "text": [
      "{'0011': 480, '0001': 520}\n"
     ]
    }
   ],
   "source": [
    "# Import necessary libraries\n",
    "from qiskit import QuantumCircuit, Aer, execute\n",
    "from qiskit.providers.aer import QasmSimulator\n",
    "from qiskit.quantum_info.operators import Operator\n",
    "\n",
    "\n",
    "# Define the gates for the Abelian calculation\n",
    "# Here we use the Pauli-X and Pauli-Z gates as an example\n",
    "X = Operator.from_label('X')\n",
    "Z = Operator.from_label('Z')\n",
    "\n",
    "# Define the Abelian group using the gates\n",
    "group = [X, Z]\n",
    "\n",
    "# Define the linear operator as a matrix\n",
    "linear_operator = np.array([[1, 1j], [1j, 1]]) / np.sqrt(2)\n",
    "\n",
    "# Define the circuit with two qubits\n",
    "qc = QuantumCircuit(4)\n",
    "\n",
    "# Apply the group gates to the first qubit\n",
    "for gate in group:\n",
    "    qc.unitary(gate, [0])\n",
    "\n",
    "# Apply the linear operator to the second qubit\n",
    "qc.unitary(linear_operator, [1])\n",
    "\n",
    "# Measure both qubits\n",
    "qc.measure_all()\n",
    "\n",
    "# Execute the circuit using the QASM simulator\n",
    "simulator = Aer.get_backend('qasm_simulator')\n",
    "job = execute(qc, simulator, shots=1000)\n",
    "result = job.result()\n",
    "\n",
    "# Print the measurement results\n",
    "print(result.get_counts(qc))"
   ]
  }
 ],
 "metadata": {
  "kernelspec": {
   "display_name": "Python 3 (ipykernel)",
   "language": "python",
   "name": "python3"
  },
  "language_info": {
   "codemirror_mode": {
    "name": "ipython",
    "version": 3
   },
   "file_extension": ".py",
   "mimetype": "text/x-python",
   "name": "python",
   "nbconvert_exporter": "python",
   "pygments_lexer": "ipython3",
   "version": "3.10.8"
  },
  "papermill": {
   "default_parameters": {},
   "duration": 13.249095,
   "end_time": "2023-04-22T12:57:27.495430",
   "environment_variables": {},
   "exception": null,
   "input_path": "/home/jovyan/Untitled1.ipynb",
   "output_path": "/home/jovyan/Untitled1-background-results.ipynb",
   "parameters": {},
   "start_time": "2023-04-22T12:57:14.246335",
   "version": "2.4.0"
  },
  "widgets": {
   "application/vnd.jupyter.widget-state+json": {
    "state": {},
    "version_major": 2,
    "version_minor": 0
   }
  }
 },
 "nbformat": 4,
 "nbformat_minor": 5
}
