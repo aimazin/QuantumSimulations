{
 "cells": [
  {
   "cell_type": "code",
   "execution_count": 2,
   "id": "b9fe5483-21e9-440c-966e-2dba3931db3b",
   "metadata": {
    "tags": []
   },
   "outputs": [],
   "source": [
    "# Import necessary libraries\n",
    "from qiskit import QuantumCircuit, Aer, execute\n",
    "from qiskit.providers.aer import QasmSimulator\n",
    "from qiskit.quantum_info.operators import Operator\n",
    "import numpy as np"
   ]
  },
  {
   "cell_type": "code",
   "execution_count": 3,
   "id": "9336a83a-4c45-4c70-9011-cc4c211ece73",
   "metadata": {
    "tags": []
   },
   "outputs": [],
   "source": [
    "\n",
    "# Define the gates for the Abelian calculation\n",
    "# Here we use the Pauli-X and Pauli-Z gates as an example\n",
    "X = Operator.from_label('X')\n",
    "Z = Operator.from_label('Z')"
   ]
  },
  {
   "cell_type": "code",
   "execution_count": 29,
   "id": "72c9ba5e-3658-4309-a6f4-02e0629dc4ed",
   "metadata": {
    "tags": []
   },
   "outputs": [],
   "source": [
    "\n",
    "# Define the Abelian group using the gates\n",
    "group = [X, Z]\n",
    "\n",
    "# Define the linear operator as a matrix\n",
    "linear_matrix = np.array([[1, 1j], [1j, 1]]) / np.sqrt(2)\n",
    "\n",
    "# Check if the matrix is unitary\n",
    "if not np.allclose(np.eye(2), np.dot(linear_matrix, linear_matrix.conj().T)):\n",
    "    raise ValueError(\"The linear matrix is not unitary.\")\n",
    "\n"
   ]
  },
  {
   "cell_type": "code",
   "execution_count": 6,
   "id": "75d729fb-b313-4bf8-8fe1-7314ced69fbc",
   "metadata": {
    "tags": []
   },
   "outputs": [],
   "source": [
    "\n",
    "# Define the circuit with two qubits\n",
    "qc = QuantumCircuit(2)\n"
   ]
  },
  {
   "cell_type": "code",
   "execution_count": 7,
   "id": "50edcd32-1262-4ff9-9fbe-8e6ace15e391",
   "metadata": {
    "tags": []
   },
   "outputs": [],
   "source": [
    "\n",
    "# Apply the group gates to the first qubit\n",
    "for gate in group:\n",
    "    qc.unitary(gate, [0])\n"
   ]
  },
  {
   "cell_type": "code",
   "execution_count": 30,
   "id": "1790f797-5a47-45fc-83d9-5429a099e246",
   "metadata": {
    "tags": []
   },
   "outputs": [
    {
     "data": {
      "text/plain": [
       "<qiskit.circuit.instructionset.InstructionSet at 0x7fc739d1c3a0>"
      ]
     },
     "execution_count": 30,
     "metadata": {},
     "output_type": "execute_result"
    }
   ],
   "source": [
    "\n",
    "# Apply the linear operator to the second qubit\n",
    "qc.unitary(linear_matrix, [1])"
   ]
  },
  {
   "cell_type": "code",
   "execution_count": 31,
   "id": "778dc1fd-1e95-4638-89e5-1018a68858a4",
   "metadata": {
    "tags": []
   },
   "outputs": [],
   "source": [
    "# Measure both qubits\n",
    "qc.measure_all()"
   ]
  },
  {
   "cell_type": "code",
   "execution_count": 32,
   "id": "3053e239-0c18-49d8-bf71-461ce6e7dbdd",
   "metadata": {
    "tags": []
   },
   "outputs": [],
   "source": [
    "# Execute the circuit using the QASM simulator\n",
    "simulator = Aer.get_backend('qasm_simulator')\n",
    "job = execute(qc, simulator, shots=1000)\n",
    "result = job.result()"
   ]
  },
  {
   "cell_type": "code",
   "execution_count": 33,
   "id": "56e8ec71-baa1-464b-a101-c24882a84ad9",
   "metadata": {
    "tags": []
   },
   "outputs": [
    {
     "name": "stdout",
     "output_type": "stream",
     "text": [
      "{'11 11 01': 502, '01 11 01': 498}\n"
     ]
    }
   ],
   "source": [
    "\n",
    "# Print the measurement results\n",
    "print(result.get_counts(qc))"
   ]
  },
  {
   "cell_type": "code",
   "execution_count": null,
   "id": "3320b949-6c95-415e-b340-89611fa8831f",
   "metadata": {},
   "outputs": [],
   "source": []
  },
  {
   "cell_type": "code",
   "execution_count": null,
   "id": "ce37ee9d",
   "metadata": {},
   "outputs": [],
   "source": []
  },
  {
   "cell_type": "code",
   "execution_count": null,
   "id": "cdd67b11-dea0-405d-913a-8768161966df",
   "metadata": {},
   "outputs": [],
   "source": []
  },
  {
   "cell_type": "code",
   "execution_count": null,
   "id": "06691e90-c900-4acf-994b-5daffebc07a1",
   "metadata": {},
   "outputs": [],
   "source": []
  }
 ],
 "metadata": {
  "kernelspec": {
   "display_name": "Python 3 (ipykernel)",
   "language": "python",
   "name": "python3"
  },
  "language_info": {
   "codemirror_mode": {
    "name": "ipython",
    "version": 3
   },
   "file_extension": ".py",
   "mimetype": "text/x-python",
   "name": "python",
   "nbconvert_exporter": "python",
   "pygments_lexer": "ipython3",
   "version": "3.10.8"
  },
  "widgets": {
   "application/vnd.jupyter.widget-state+json": {
    "state": {
     "0b2172f5f89f4160a2a7cfa0cf5daa38": {
      "model_module": "@jupyter-widgets/controls",
      "model_module_version": "2.0.0",
      "model_name": "HTMLStyleModel",
      "state": {
       "description_width": "",
       "font_size": null,
       "text_color": null
      }
     },
     "1f0aac8fa1514dd48375dd06965e01ee": {
      "model_module": "@jupyter-widgets/base",
      "model_module_version": "2.0.0",
      "model_name": "LayoutModel",
      "state": {
       "width": "145px"
      }
     },
     "227003c82fd14439a7b7bc9b9510de98": {
      "model_module": "@jupyter-widgets/controls",
      "model_module_version": "2.0.0",
      "model_name": "HTMLModel",
      "state": {
       "layout": "IPY_MODEL_db17c32e2a484eea8d1978a933ff4bb8",
       "style": "IPY_MODEL_ce85945ec9d9401c969520d4d67b3a7b",
       "value": "<h5>Job ID</h5>"
      }
     },
     "294e568b72b94d7b86c12096a6a7d951": {
      "model_module": "@jupyter-widgets/base",
      "model_module_version": "2.0.0",
      "model_name": "LayoutModel",
      "state": {
       "grid_area": "right",
       "padding": "0px 0px 0px 0px",
       "width": "70px"
      }
     },
     "3c9668a5de38498992bd86e0ee8421df": {
      "model_module": "@jupyter-widgets/controls",
      "model_module_version": "2.0.0",
      "model_name": "HTMLStyleModel",
      "state": {
       "description_width": "",
       "font_size": null,
       "text_color": null
      }
     },
     "5204019807584f01ab526110030a72bb": {
      "model_module": "@jupyter-widgets/controls",
      "model_module_version": "2.0.0",
      "model_name": "HBoxModel",
      "state": {
       "children": [
        "IPY_MODEL_227003c82fd14439a7b7bc9b9510de98",
        "IPY_MODEL_82254a215d5447a1890819bb8cf93f6c",
        "IPY_MODEL_fdcad899be1f41dea60800efd0329748",
        "IPY_MODEL_ff2c7398d9a74a18ae37aad384a7a33a",
        "IPY_MODEL_6f681d0784aa4b4287663e3a77705cdb"
       ],
       "layout": "IPY_MODEL_fdc8ced8af934837815389f493609bd0"
      }
     },
     "6f681d0784aa4b4287663e3a77705cdb": {
      "model_module": "@jupyter-widgets/controls",
      "model_module_version": "2.0.0",
      "model_name": "HTMLModel",
      "state": {
       "layout": "IPY_MODEL_a4bc0c9e8f314b25abe0001fe084e902",
       "style": "IPY_MODEL_3c9668a5de38498992bd86e0ee8421df",
       "value": "<h5>Message</h5>"
      }
     },
     "760d80a048794f03b6f4c12f2c2df318": {
      "model_module": "@jupyter-widgets/controls",
      "model_module_version": "2.0.0",
      "model_name": "GridBoxModel",
      "state": {
       "children": [
        "IPY_MODEL_f0bc5358e10e405c9b4876beb460d829"
       ],
       "layout": "IPY_MODEL_b0a703fc073740c899590c0a84fe776d"
      }
     },
     "78e0afb844c74ae38ccfe956895aa0d0": {
      "model_module": "@jupyter-widgets/controls",
      "model_module_version": "2.0.0",
      "model_name": "HTMLStyleModel",
      "state": {
       "description_width": "",
       "font_size": null,
       "text_color": null
      }
     },
     "82254a215d5447a1890819bb8cf93f6c": {
      "model_module": "@jupyter-widgets/controls",
      "model_module_version": "2.0.0",
      "model_name": "HTMLModel",
      "state": {
       "layout": "IPY_MODEL_1f0aac8fa1514dd48375dd06965e01ee",
       "style": "IPY_MODEL_96f8f67bd1544e108299d3674e31ca04",
       "value": "<h5>Backend</h5>"
      }
     },
     "96f8f67bd1544e108299d3674e31ca04": {
      "model_module": "@jupyter-widgets/controls",
      "model_module_version": "2.0.0",
      "model_name": "HTMLStyleModel",
      "state": {
       "description_width": "",
       "font_size": null,
       "text_color": null
      }
     },
     "a15ee2eea3ad4c63977c749349e3cb95": {
      "model_module": "@jupyter-widgets/controls",
      "model_module_version": "2.0.0",
      "model_name": "ButtonStyleModel",
      "state": {
       "font_family": null,
       "font_size": null,
       "font_style": null,
       "font_variant": null,
       "font_weight": null,
       "text_color": null,
       "text_decoration": null
      }
     },
     "a4bc0c9e8f314b25abe0001fe084e902": {
      "model_module": "@jupyter-widgets/base",
      "model_module_version": "2.0.0",
      "model_name": "LayoutModel",
      "state": {}
     },
     "b0a703fc073740c899590c0a84fe776d": {
      "model_module": "@jupyter-widgets/base",
      "model_module_version": "2.0.0",
      "model_name": "LayoutModel",
      "state": {
       "grid_template_areas": "\n                                       \". . . . right \"\n                                        ",
       "grid_template_columns": "20% 20% 20% 20% 20%",
       "width": "100%"
      }
     },
     "b12a4c95a8b744c9b259025105219bfe": {
      "model_module": "@jupyter-widgets/base",
      "model_module_version": "2.0.0",
      "model_name": "LayoutModel",
      "state": {
       "width": "70px"
      }
     },
     "b3ef8f24c7114a168b03823d4cdef2e4": {
      "model_module": "@jupyter-widgets/controls",
      "model_module_version": "2.0.0",
      "model_name": "HTMLModel",
      "state": {
       "layout": "IPY_MODEL_f8f79bbc08bd49cfb441851a7b4ce001",
       "style": "IPY_MODEL_78e0afb844c74ae38ccfe956895aa0d0",
       "value": "<p style='font-family: IBM Plex Sans, Arial, Helvetica, sans-serif; font-size: 20px; font-weight: medium;'>Circuit Properties</p>"
      }
     },
     "cce534b3fae54a519d3bc88701274da7": {
      "model_module": "@jupyter-widgets/controls",
      "model_module_version": "2.0.0",
      "model_name": "HTMLStyleModel",
      "state": {
       "description_width": "",
       "font_size": null,
       "text_color": null
      }
     },
     "ce85945ec9d9401c969520d4d67b3a7b": {
      "model_module": "@jupyter-widgets/controls",
      "model_module_version": "2.0.0",
      "model_name": "HTMLStyleModel",
      "state": {
       "description_width": "",
       "font_size": null,
       "text_color": null
      }
     },
     "db17c32e2a484eea8d1978a933ff4bb8": {
      "model_module": "@jupyter-widgets/base",
      "model_module_version": "2.0.0",
      "model_name": "LayoutModel",
      "state": {
       "width": "190px"
      }
     },
     "e28f4b8e46484268a398851a884e6991": {
      "model_module": "@jupyter-widgets/base",
      "model_module_version": "2.0.0",
      "model_name": "LayoutModel",
      "state": {
       "width": "95px"
      }
     },
     "f0bc5358e10e405c9b4876beb460d829": {
      "model_module": "@jupyter-widgets/controls",
      "model_module_version": "2.0.0",
      "model_name": "ButtonModel",
      "state": {
       "button_style": "primary",
       "description": "Clear",
       "layout": "IPY_MODEL_294e568b72b94d7b86c12096a6a7d951",
       "style": "IPY_MODEL_a15ee2eea3ad4c63977c749349e3cb95",
       "tooltip": null
      }
     },
     "f8f79bbc08bd49cfb441851a7b4ce001": {
      "model_module": "@jupyter-widgets/base",
      "model_module_version": "2.0.0",
      "model_name": "LayoutModel",
      "state": {
       "margin": "0px 0px 10px 0px"
      }
     },
     "fdc8ced8af934837815389f493609bd0": {
      "model_module": "@jupyter-widgets/base",
      "model_module_version": "2.0.0",
      "model_name": "LayoutModel",
      "state": {
       "margin": "0px 0px 0px 37px",
       "width": "600px"
      }
     },
     "fdcad899be1f41dea60800efd0329748": {
      "model_module": "@jupyter-widgets/controls",
      "model_module_version": "2.0.0",
      "model_name": "HTMLModel",
      "state": {
       "layout": "IPY_MODEL_e28f4b8e46484268a398851a884e6991",
       "style": "IPY_MODEL_0b2172f5f89f4160a2a7cfa0cf5daa38",
       "value": "<h5>Status</h5>"
      }
     },
     "ff2c7398d9a74a18ae37aad384a7a33a": {
      "model_module": "@jupyter-widgets/controls",
      "model_module_version": "2.0.0",
      "model_name": "HTMLModel",
      "state": {
       "layout": "IPY_MODEL_b12a4c95a8b744c9b259025105219bfe",
       "style": "IPY_MODEL_cce534b3fae54a519d3bc88701274da7",
       "value": "<h5>Queue</h5>"
      }
     }
    },
    "version_major": 2,
    "version_minor": 0
   }
  }
 },
 "nbformat": 4,
 "nbformat_minor": 5
}
