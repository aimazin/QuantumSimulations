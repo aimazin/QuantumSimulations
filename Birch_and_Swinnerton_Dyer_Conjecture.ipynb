{
 "cells": [
  {
   "cell_type": "markdown",
   "id": "3ced27ed-5689-49c1-9d46-8c3cf44239cb",
   "metadata": {
    "tags": []
   },
   "source": [
    "# Solving Birch and Swinnerton-Dyer Conjecture"
   ]
  },
  {
   "cell_type": "markdown",
   "id": "9aa5db1c-f68e-4d68-9c5e-f7a760aaf2b1",
   "metadata": {},
   "source": [
    "### Pseudo code for bill passing:"
   ]
  },
  {
   "cell_type": "markdown",
   "id": "169f4a62-8cd8-4fc7-adf5-fc68d9c8d6fe",
   "metadata": {},
   "source": [
    "\n",
    "// Proposal and Drafting\n",
    "function createBill(proposal):\n",
    "    bill = new Bill(proposal)\n",
    "    return bill\n",
    "\n",
    "// Introduction\n",
    "function introduceBill(bill):\n",
    "    legislativeBody.introduce(bill)\n",
    "\n",
    "// Committee Review\n",
    "function reviewBill(bill):\n",
    "    committee = getRelevantCommittee(bill)\n",
    "    committee.review(bill)\n",
    "\n",
    "// Floor Consideration\n",
    "function considerBill(bill):\n",
    "    legislativeBody.discuss(bill)\n",
    "    legislativeBody.amend(bill)\n",
    "\n",
    "// Voting\n",
    "function voteOnBill(bill):\n",
    "    legislativeBody.vote(bill)\n",
    "\n",
    "// Other Chamber Consideration\n",
    "function sendToOtherChamber(bill):\n",
    "    otherChamber.receive(bill)\n",
    "\n",
    "// Conference Committee\n",
    "function reconcileDifferences(bill1, bill2):\n",
    "    conferenceCommittee = new ConferenceCommittee(bill1, bill2)\n",
    "    conferenceCommittee.reconcile()\n",
    "\n",
    "// Approval and Signature\n",
    "function approveBill(bill):\n",
    "    executiveBranch.approve(bill)\n",
    "\n",
    "// Implementation\n",
    "function implementLaw(bill):\n",
    "    governmentAgency.implement(bill)\n",
    "\n",
    "// Main Process\n",
    "function main(proposal):\n",
    "    bill = createBill(proposal)\n",
    "    introduceBill(bill)\n",
    "    reviewBill(bill)\n",
    "    considerBill(bill)\n",
    "    voteOnBill(bill)\n",
    "    sendToOtherChamber(bill)\n",
    "    reconcileDifferences(bill1, bill2)\n",
    "    approveBill(bill)\n",
    "    implementLaw(bill)\n"
   ]
  },
  {
   "cell_type": "markdown",
   "id": "477b180f-0201-4209-8ab9-7ef8c7eaac24",
   "metadata": {},
   "source": [
    "### Here is a comparable system using text or financial docs to address this"
   ]
  },
  {
   "cell_type": "code",
   "execution_count": 3,
   "id": "34ccf268-d1ce-4be3-8829-223b3ee4a625",
   "metadata": {
    "tags": []
   },
   "outputs": [
    {
     "data": {
      "text/html": [
       "<h3>Version Information</h3><table><tr><th>Qiskit Software</th><th>Version</th></tr><tr><td><code>qiskit-terra</code></td><td>0.24.1</td></tr><tr><td><code>qiskit-aer</code></td><td>0.12.1</td></tr><tr><td><code>qiskit-ibmq-provider</code></td><td>0.20.2</td></tr><tr><td><code>qiskit</code></td><td>0.43.2</td></tr><tr><td><code>qiskit-nature</code></td><td>0.6.2</td></tr><tr><td><code>qiskit-finance</code></td><td>0.3.4</td></tr><tr><td><code>qiskit-optimization</code></td><td>0.5.0</td></tr><tr><td><code>qiskit-machine-learning</code></td><td>0.6.1</td></tr><tr><th>System information</th></tr><tr><td>Python version</td><td>3.10.8</td></tr><tr><td>Python compiler</td><td>GCC 10.4.0</td></tr><tr><td>Python build</td><td>main, Nov 22 2022 08:26:04</td></tr><tr><td>OS</td><td>Linux</td></tr><tr><td>CPUs</td><td>8</td></tr><tr><td>Memory (Gb)</td><td>31.211322784423828</td></tr><tr><td colspan='2'>Fri Jul 14 07:45:47 2023 UTC</td></tr></table>"
      ],
      "text/plain": [
       "<IPython.core.display.HTML object>"
      ]
     },
     "metadata": {},
     "output_type": "display_data"
    },
    {
     "data": {
      "text/html": [
       "<div style='width: 100%; background-color:#d5d9e0;padding-left: 10px; padding-bottom: 10px; padding-right: 10px; padding-top: 5px'><h3>This code is a part of Qiskit</h3><p>&copy; Copyright IBM 2017, 2023.</p><p>This code is licensed under the Apache License, Version 2.0. You may<br>obtain a copy of this license in the LICENSE.txt file in the root directory<br> of this source tree or at http://www.apache.org/licenses/LICENSE-2.0.<p>Any modifications or derivative works of this code must retain this<br>copyright notice, and modified files need to carry a notice indicating<br>that they have been altered from the originals.</p></div>"
      ],
      "text/plain": [
       "<IPython.core.display.HTML object>"
      ]
     },
     "metadata": {},
     "output_type": "display_data"
    }
   ],
   "source": [
    "import qiskit.tools.jupyter\n",
    "%qiskit_version_table\n",
    "%qiskit_copyright\n",
    "# to do version to qiskit 0.33.0"
   ]
  },
  {
   "cell_type": "code",
   "execution_count": 5,
   "id": "e0a1e5c0-fee5-4d0c-a605-0a7fa9e979b7",
   "metadata": {
    "tags": []
   },
   "outputs": [],
   "source": [
    "import qiskit\n",
    "from qiskit import QuantumCircuit, execute, Aer\n",
    "#from qiskit.ml.datasets import ad_hoc_data\n",
    "from qiskit.circuit.library import ZZFeatureMap, ZFeatureMap\n",
    "#from qiskit.aqua import QuantumInstance\n",
    "#from qiskit.aqua.algorithms import QSVM\n",
    "#from qiskit.aqua.components.feature_maps import FirstOrderExpansion\n",
    "import numpy as np"
   ]
  },
  {
   "cell_type": "code",
   "execution_count": 2,
   "id": "f3221855-238f-47d4-a55c-a0977277801e",
   "metadata": {
    "tags": []
   },
   "outputs": [
    {
     "name": "stdout",
     "output_type": "stream",
     "text": [
      "Traceback \u001b[1;36m(most recent call last)\u001b[0m:\n",
      "\u001b[1;36m  Cell \u001b[1;32mIn[2], line 3\u001b[1;36m\n",
      "\u001b[1;33m    from qiskit.ml.datasets import ad_hoc_data\u001b[1;36m\n",
      "\u001b[1;31mModuleNotFoundError\u001b[0m\u001b[1;31m:\u001b[0m No module named 'qiskit.ml'\n",
      "\n",
      "Use %tb to get the full traceback.\n"
     ]
    },
    {
     "data": {
      "text/html": [
       "\n",
       "<style>\n",
       ".button {\n",
       "  border: none;\n",
       "  color: white;\n",
       "  padding: 4px 8px;\n",
       "  text-align: center;\n",
       "  text-decoration: none;\n",
       "  display: inline-block;\n",
       "  font-size: 12px;\n",
       "  margin: 4px 2px;\n",
       "  transition-duration: 0.2s;\n",
       "  cursor: pointer;\n",
       "}\n",
       ".iqx-button {\n",
       "  background-color: #0f62fe; \n",
       "  color: white; \n",
       "}\n",
       ".iqx-button:hover {\n",
       "  background-color: #0043ce;\n",
       "  color: white;\n",
       "}\n",
       "</style>\n",
       "<a href=\"https://stackoverflow.com/search?q=ModuleNotFoundError: No module named 'qiskit.ml'\" target='_blank'><button class='button iqx-button'>Search for solution online</button></a>\n"
      ],
      "text/plain": [
       "<IPython.core.display.HTML object>"
      ]
     },
     "metadata": {},
     "output_type": "display_data"
    }
   ],
   "source": [
    "\n",
    "# Financial report data\n",
    "financial_reports = [\"Report 1 text\", \"Report 2 text\", \"Report 3 text\"]\n",
    "labels = [1, -1, 0]  # Example sentiment labels (positive, negative, neutral)\n",
    "\n",
    "# Quantum Feature Mapping\n",
    "def quantum_feature_mapping(text):\n",
    "    feature_map = FirstOrderExpansion(feature_dimension=2, depth=1)\n",
    "    return feature_map\n",
    "\n",
    "# Quantum Sentiment Analysis\n",
    "def quantum_sentiment_analysis(quantum_data, labels):\n",
    "    feature_map = quantum_feature_mapping(quantum_data[0])  # Use the first report for feature mapping\n",
    "    svm = QSVM(feature_map, ad_hoc_data.training_dataset(quantum_data, labels), None)\n",
    "    quantum_instance = QuantumInstance(Aer.get_backend('statevector_simulator'))\n",
    "\n",
    "    result = svm.run(quantum_instance)\n",
    "    return result['predicted_classes']\n",
    "\n",
    "# Evaluation\n",
    "def evaluate_model(predictions, ground_truth):\n",
    "    # Compare predicted sentiments with ground truth labels\n",
    "    # Calculate evaluation metrics such as accuracy, precision, recall, or F1-score\n",
    "    # Example: Calculate accuracy of the quantum sentiment analysis model\n",
    "    accuracy = sum([1 for p, g in zip(predictions, ground_truth) if p == g]) / len(predictions)\n",
    "    return accuracy\n",
    "\n",
    "\n",
    "\n",
    "# Spherical Laplacian\n",
    "def spherical_laplacian(predictions):\n",
    "    sphere_radius = np.exp(11.02)  # Example sphere radius\n",
    "\n",
    "    # Normalize predictions to a unit sphere\n",
    "    normalized_predictions = [prediction / max(predictions) for prediction in predictions]\n",
    "\n",
    "    # Compute the spherical Laplacian for each normalized prediction\n",
    "    laplacians = [(-1 / sphere_radius**2) * (prediction - sum(normalized_predictions) / len(normalized_predictions)) for prediction in normalized_predictions]\n",
    "\n",
    "    return laplacians\n",
    "\n",
    "# Main process\n",
    "def main():\n",
    "    # Quantum Sentiment Analysis\n",
    "    sentiment_predictions = quantum_sentiment_analysis(financial_reports, labels)\n",
    "\n",
    "    # Ground truth labels\n",
    "    ground_truth_labels = labels\n",
    "\n",
    "    # Evaluation\n",
    "    accuracy = evaluate_model(sentiment_predictions, ground_truth_labels)\n",
    "    print(\"Accuracy:\", accuracy)\n",
    "\n",
    "    # Spherical Laplacian\n",
    "    laplacians = spherical_laplacian(sentiment_predictions)\n",
    "    print(\"Laplacians:\", laplacians)\n",
    "\n",
    "# Execute the main process\n",
    "main()\n",
    "\n"
   ]
  },
  {
   "cell_type": "markdown",
   "id": "e2184963-e8d1-42a5-83bd-b097a809436c",
   "metadata": {},
   "source": [
    "from sklearn.datasets import make_blobs\n",
    "import numpy as np\n",
    "from sklearn.model_selection import train_test_split\n",
    "from sklearn.preprocessing import MinMaxScaler\n",
    "from qiskit import BasicAer\n",
    "from qiskit.circuit.library import ZFeatureMap\n",
    "from qiskit.utils import algorithm_globals\n",
    "from qiskit_machine_learning.kernels import FidelityQuantumKernel\n",
    "from qiskit_machine_learning.algorithms import PegasosQSVC\n",
    "# example dataset\n",
    "features, labels = make_blobs(n_samples=20, n_features=2, centers=2, random_state=3, shuffle=True)\n",
    "\n",
    "features = MinMaxScaler(feature_range=(0, np.pi)).fit_transform(features)\n",
    "\n",
    "train_features, test_features, train_labels, test_labels = train_test_split(\n",
    "    features, labels, train_size=15, shuffle=False)\n",
    "\n",
    "# number of qubits is equal to the number of features\n",
    "num_qubits = 2\n",
    "\n",
    "# number of steps performed during the training procedure\n",
    "tau = 100\n",
    "\n",
    "# regularization parameter\n",
    "C = 1000\n",
    "\n",
    "algorithm_globals.random_seed = 12345\n",
    "\n",
    "feature_map = ZFeatureMap(feature_dimension=num_qubits, reps=1)\n",
    "\n",
    "qkernel = FidelityQuantumKernel(feature_map=feature_map)\n",
    "\n",
    "\n",
    "pegasos_qsvc = PegasosQSVC(quantum_kernel=qkernel, C=C, num_steps=tau)\n",
    "\n",
    "# training\n",
    "pegasos_qsvc.fit(train_features, train_labels)\n",
    "\n",
    "# testing\n",
    "pegasos_score = pegasos_qsvc.score(test_features, test_labels)\n",
    "print(f\"PegasosQSVC classification test score: {pegasos_score}\")"
   ]
  },
  {
   "cell_type": "markdown",
   "id": "365e1391-61b3-4fee-8a89-ff26dd9112cf",
   "metadata": {},
   "source": [
    "### Here is the modern take"
   ]
  },
  {
   "cell_type": "code",
   "execution_count": 8,
   "id": "cc6189aa-e6f3-4946-988e-08dd4848cfbb",
   "metadata": {
    "tags": []
   },
   "outputs": [
    {
     "name": "stdout",
     "output_type": "stream",
     "text": [
      "PegasosQSVC classification test score: 1.0\n",
      "Laplacians: [-1.6080548906885023e-10, 1.0720365937923349e-10, 1.0720365937923349e-10, -1.6080548906885023e-10, 1.0720365937923349e-10]\n"
     ]
    }
   ],
   "source": [
    "import numpy as np\n",
    "from sklearn.datasets import make_blobs\n",
    "from sklearn.model_selection import train_test_split\n",
    "from sklearn.preprocessing import MinMaxScaler\n",
    "from qiskit import BasicAer\n",
    "from qiskit.circuit.library import ZFeatureMap\n",
    "from qiskit.utils import algorithm_globals\n",
    "from qiskit_machine_learning.kernels import FidelityQuantumKernel\n",
    "from qiskit_machine_learning.algorithms import PegasosQSVC\n",
    "\n",
    "# Example dataset\n",
    "features, labels = make_blobs(n_samples=20, n_features=2, centers=2, random_state=3, shuffle=True)\n",
    "features = MinMaxScaler(feature_range=(0, np.pi)).fit_transform(features)\n",
    "train_features, test_features, train_labels, test_labels = train_test_split(features, labels, train_size=15, shuffle=False)\n",
    "\n",
    "# Number of qubits is equal to the number of features\n",
    "num_qubits = 2\n",
    "\n",
    "# Number of steps performed during the training procedure\n",
    "tau = 100\n",
    "\n",
    "# Regularization parameter\n",
    "C = 1000\n",
    "\n",
    "algorithm_globals.random_seed = 12345\n",
    "\n",
    "# Feature map\n",
    "feature_map = ZFeatureMap(feature_dimension=num_qubits, reps=1)\n",
    "\n",
    "# Quantum kernel\n",
    "qkernel = FidelityQuantumKernel(feature_map=feature_map)\n",
    "\n",
    "# PegasosQSVC training\n",
    "pegasos_qsvc = PegasosQSVC(quantum_kernel=qkernel, C=C, num_steps=tau)\n",
    "pegasos_qsvc.fit(train_features, train_labels)\n",
    "\n",
    "# Testing\n",
    "pegasos_score = pegasos_qsvc.score(test_features, test_labels)\n",
    "print(f\"PegasosQSVC classification test score: {pegasos_score}\")\n",
    "\n",
    "# Spherical Laplacian\n",
    "sphere_radius = np.exp(11.02)  # Example sphere radius\n",
    "\n",
    "# Normalize predicted scores to a unit sphere\n",
    "normalized_scores = pegasos_qsvc.predict(test_features) / max(pegasos_qsvc.predict(test_features))\n",
    "\n",
    "# Compute the spherical Laplacian for each normalized score\n",
    "laplacians = [(-1 / sphere_radius**2) * (score - sum(normalized_scores) / len(normalized_scores)) for score in normalized_scores]\n",
    "print(\"Laplacians:\", laplacians)\n"
   ]
  }
 ],
 "metadata": {
  "kernelspec": {
   "display_name": "Python 3 (ipykernel)",
   "language": "python",
   "name": "python3"
  },
  "language_info": {
   "codemirror_mode": {
    "name": "ipython",
    "version": 3
   },
   "file_extension": ".py",
   "mimetype": "text/x-python",
   "name": "python",
   "nbconvert_exporter": "python",
   "pygments_lexer": "ipython3",
   "version": "3.10.8"
  },
  "widgets": {
   "application/vnd.jupyter.widget-state+json": {
    "state": {
     "031093f55f0c4be3981be0c72aac4476": {
      "model_module": "@jupyter-widgets/base",
      "model_module_version": "2.0.0",
      "model_name": "LayoutModel",
      "state": {
       "grid_template_areas": "\n                                       \". . . . right \"\n                                        ",
       "grid_template_columns": "20% 20% 20% 20% 20%",
       "width": "100%"
      }
     },
     "0522c4a764e64f29b2e9f8f402ec47a1": {
      "model_module": "@jupyter-widgets/controls",
      "model_module_version": "2.0.0",
      "model_name": "HTMLModel",
      "state": {
       "layout": "IPY_MODEL_6550ae995faf45fdae5b8bebdd6f1e57",
       "style": "IPY_MODEL_c8955c50cda048748d335b66c81968b2",
       "value": "<h5>Message</h5>"
      }
     },
     "10fc421a568d43b7931d9954c4dc9a31": {
      "model_module": "@jupyter-widgets/controls",
      "model_module_version": "2.0.0",
      "model_name": "HBoxModel",
      "state": {
       "children": [
        "IPY_MODEL_60e8f4046dd9431c8cd2ffdc1ab22e62",
        "IPY_MODEL_fb764c7e8bd747deb32c9520e8574026",
        "IPY_MODEL_c559659d5b09428f9b5c72fd01014918",
        "IPY_MODEL_f5f5f876705a488f89e822feb722613f",
        "IPY_MODEL_0522c4a764e64f29b2e9f8f402ec47a1"
       ],
       "layout": "IPY_MODEL_93a899d2bf7e400ea1a7f09818cc4af3"
      }
     },
     "1a837e8cb65d43e1a634991e3633f904": {
      "model_module": "@jupyter-widgets/controls",
      "model_module_version": "2.0.0",
      "model_name": "HTMLStyleModel",
      "state": {
       "description_width": "",
       "font_size": null,
       "text_color": null
      }
     },
     "1bb1b39adde44169a3d3ca39123ac0f9": {
      "model_module": "@jupyter-widgets/base",
      "model_module_version": "2.0.0",
      "model_name": "LayoutModel",
      "state": {
       "width": "145px"
      }
     },
     "23e2426cb079443a92de0e4484bb3cff": {
      "model_module": "@jupyter-widgets/base",
      "model_module_version": "2.0.0",
      "model_name": "LayoutModel",
      "state": {
       "width": "95px"
      }
     },
     "2d59000e21b748b7b925326fe4d82371": {
      "model_module": "@jupyter-widgets/controls",
      "model_module_version": "2.0.0",
      "model_name": "HTMLModel",
      "state": {
       "layout": "IPY_MODEL_cb7961c9a94d461986bfba84ce134991",
       "style": "IPY_MODEL_bd56a245d8d344db92d91a6701e7a2c5",
       "value": "<p style='font-family: IBM Plex Sans, Arial, Helvetica, sans-serif; font-size: 20px; font-weight: medium;'>Circuit Properties</p>"
      }
     },
     "3ba476e133ed47bd8fc673942e4d54ca": {
      "model_module": "@jupyter-widgets/base",
      "model_module_version": "2.0.0",
      "model_name": "LayoutModel",
      "state": {
       "width": "70px"
      }
     },
     "3d6bea065b8441feb2fc4f0539e5a88c": {
      "model_module": "@jupyter-widgets/controls",
      "model_module_version": "2.0.0",
      "model_name": "ButtonStyleModel",
      "state": {
       "font_family": null,
       "font_size": null,
       "font_style": null,
       "font_variant": null,
       "font_weight": null,
       "text_color": null,
       "text_decoration": null
      }
     },
     "48d0f369f3124129b8e776c27b2a7426": {
      "model_module": "@jupyter-widgets/controls",
      "model_module_version": "2.0.0",
      "model_name": "HTMLStyleModel",
      "state": {
       "description_width": "",
       "font_size": null,
       "text_color": null
      }
     },
     "4e362037823f47bdadbe5ba82744f19c": {
      "model_module": "@jupyter-widgets/controls",
      "model_module_version": "2.0.0",
      "model_name": "HTMLStyleModel",
      "state": {
       "description_width": "",
       "font_size": null,
       "text_color": null
      }
     },
     "60e8f4046dd9431c8cd2ffdc1ab22e62": {
      "model_module": "@jupyter-widgets/controls",
      "model_module_version": "2.0.0",
      "model_name": "HTMLModel",
      "state": {
       "layout": "IPY_MODEL_a868594fef694b549861a37fe8f00c08",
       "style": "IPY_MODEL_1a837e8cb65d43e1a634991e3633f904",
       "value": "<h5>Job ID</h5>"
      }
     },
     "6550ae995faf45fdae5b8bebdd6f1e57": {
      "model_module": "@jupyter-widgets/base",
      "model_module_version": "2.0.0",
      "model_name": "LayoutModel",
      "state": {}
     },
     "93a899d2bf7e400ea1a7f09818cc4af3": {
      "model_module": "@jupyter-widgets/base",
      "model_module_version": "2.0.0",
      "model_name": "LayoutModel",
      "state": {
       "margin": "0px 0px 0px 37px",
       "width": "600px"
      }
     },
     "a6d6a8f690fb4491a409ab27cf965ded": {
      "model_module": "@jupyter-widgets/base",
      "model_module_version": "2.0.0",
      "model_name": "LayoutModel",
      "state": {
       "grid_area": "right",
       "padding": "0px 0px 0px 0px",
       "width": "70px"
      }
     },
     "a7e03a6b3c16422986b0545fdc9d8fb7": {
      "model_module": "@jupyter-widgets/controls",
      "model_module_version": "2.0.0",
      "model_name": "HTMLStyleModel",
      "state": {
       "description_width": "",
       "font_size": null,
       "text_color": null
      }
     },
     "a868594fef694b549861a37fe8f00c08": {
      "model_module": "@jupyter-widgets/base",
      "model_module_version": "2.0.0",
      "model_name": "LayoutModel",
      "state": {
       "width": "190px"
      }
     },
     "b2d5fd0e047d442b8f1874fdabdc2212": {
      "model_module": "@jupyter-widgets/controls",
      "model_module_version": "2.0.0",
      "model_name": "GridBoxModel",
      "state": {
       "children": [
        "IPY_MODEL_da7cf670982c447086c1c0896c53df31"
       ],
       "layout": "IPY_MODEL_031093f55f0c4be3981be0c72aac4476"
      }
     },
     "bd56a245d8d344db92d91a6701e7a2c5": {
      "model_module": "@jupyter-widgets/controls",
      "model_module_version": "2.0.0",
      "model_name": "HTMLStyleModel",
      "state": {
       "description_width": "",
       "font_size": null,
       "text_color": null
      }
     },
     "c559659d5b09428f9b5c72fd01014918": {
      "model_module": "@jupyter-widgets/controls",
      "model_module_version": "2.0.0",
      "model_name": "HTMLModel",
      "state": {
       "layout": "IPY_MODEL_23e2426cb079443a92de0e4484bb3cff",
       "style": "IPY_MODEL_48d0f369f3124129b8e776c27b2a7426",
       "value": "<h5>Status</h5>"
      }
     },
     "c8955c50cda048748d335b66c81968b2": {
      "model_module": "@jupyter-widgets/controls",
      "model_module_version": "2.0.0",
      "model_name": "HTMLStyleModel",
      "state": {
       "description_width": "",
       "font_size": null,
       "text_color": null
      }
     },
     "cb7961c9a94d461986bfba84ce134991": {
      "model_module": "@jupyter-widgets/base",
      "model_module_version": "2.0.0",
      "model_name": "LayoutModel",
      "state": {
       "margin": "0px 0px 10px 0px"
      }
     },
     "da7cf670982c447086c1c0896c53df31": {
      "model_module": "@jupyter-widgets/controls",
      "model_module_version": "2.0.0",
      "model_name": "ButtonModel",
      "state": {
       "button_style": "primary",
       "description": "Clear",
       "layout": "IPY_MODEL_a6d6a8f690fb4491a409ab27cf965ded",
       "style": "IPY_MODEL_3d6bea065b8441feb2fc4f0539e5a88c",
       "tooltip": null
      }
     },
     "f5f5f876705a488f89e822feb722613f": {
      "model_module": "@jupyter-widgets/controls",
      "model_module_version": "2.0.0",
      "model_name": "HTMLModel",
      "state": {
       "layout": "IPY_MODEL_3ba476e133ed47bd8fc673942e4d54ca",
       "style": "IPY_MODEL_a7e03a6b3c16422986b0545fdc9d8fb7",
       "value": "<h5>Queue</h5>"
      }
     },
     "fb764c7e8bd747deb32c9520e8574026": {
      "model_module": "@jupyter-widgets/controls",
      "model_module_version": "2.0.0",
      "model_name": "HTMLModel",
      "state": {
       "layout": "IPY_MODEL_1bb1b39adde44169a3d3ca39123ac0f9",
       "style": "IPY_MODEL_4e362037823f47bdadbe5ba82744f19c",
       "value": "<h5>Backend</h5>"
      }
     }
    },
    "version_major": 2,
    "version_minor": 0
   }
  }
 },
 "nbformat": 4,
 "nbformat_minor": 5
}
